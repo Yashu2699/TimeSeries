{
 "cells": [
  {
   "cell_type": "markdown",
   "id": "c54cfcab",
   "metadata": {},
   "source": [
    "### Forecasting with Holt-Winters Method"
   ]
  },
  {
   "cell_type": "code",
   "execution_count": 1,
   "id": "cc03534f",
   "metadata": {},
   "outputs": [
    {
     "data": {
      "text/html": [
       "<div>\n",
       "<style scoped>\n",
       "    .dataframe tbody tr th:only-of-type {\n",
       "        vertical-align: middle;\n",
       "    }\n",
       "\n",
       "    .dataframe tbody tr th {\n",
       "        vertical-align: top;\n",
       "    }\n",
       "\n",
       "    .dataframe thead th {\n",
       "        text-align: right;\n",
       "    }\n",
       "</style>\n",
       "<table border=\"1\" class=\"dataframe\">\n",
       "  <thead>\n",
       "    <tr style=\"text-align: right;\">\n",
       "      <th></th>\n",
       "      <th>Thousands of Passengers</th>\n",
       "    </tr>\n",
       "    <tr>\n",
       "      <th>Month</th>\n",
       "      <th></th>\n",
       "    </tr>\n",
       "  </thead>\n",
       "  <tbody>\n",
       "    <tr>\n",
       "      <th>1949-01-01</th>\n",
       "      <td>112</td>\n",
       "    </tr>\n",
       "    <tr>\n",
       "      <th>1949-02-01</th>\n",
       "      <td>118</td>\n",
       "    </tr>\n",
       "    <tr>\n",
       "      <th>1949-03-01</th>\n",
       "      <td>132</td>\n",
       "    </tr>\n",
       "    <tr>\n",
       "      <th>1949-04-01</th>\n",
       "      <td>129</td>\n",
       "    </tr>\n",
       "    <tr>\n",
       "      <th>1949-05-01</th>\n",
       "      <td>121</td>\n",
       "    </tr>\n",
       "  </tbody>\n",
       "</table>\n",
       "</div>"
      ],
      "text/plain": [
       "            Thousands of Passengers\n",
       "Month                              \n",
       "1949-01-01                      112\n",
       "1949-02-01                      118\n",
       "1949-03-01                      132\n",
       "1949-04-01                      129\n",
       "1949-05-01                      121"
      ]
     },
     "execution_count": 1,
     "metadata": {},
     "output_type": "execute_result"
    }
   ],
   "source": [
    "import pandas as pd\n",
    "import numpy as np\n",
    "%matplotlib inline\n",
    "\n",
    "df = pd.read_csv('../Data/airline_passengers.csv',index_col='Month',parse_dates=True)\n",
    "df.index.freq = 'MS'\n",
    "df.head()"
   ]
  },
  {
   "cell_type": "code",
   "execution_count": 3,
   "id": "44a1d698",
   "metadata": {},
   "outputs": [
    {
     "data": {
      "text/html": [
       "<div>\n",
       "<style scoped>\n",
       "    .dataframe tbody tr th:only-of-type {\n",
       "        vertical-align: middle;\n",
       "    }\n",
       "\n",
       "    .dataframe tbody tr th {\n",
       "        vertical-align: top;\n",
       "    }\n",
       "\n",
       "    .dataframe thead th {\n",
       "        text-align: right;\n",
       "    }\n",
       "</style>\n",
       "<table border=\"1\" class=\"dataframe\">\n",
       "  <thead>\n",
       "    <tr style=\"text-align: right;\">\n",
       "      <th></th>\n",
       "      <th>Thousands of Passengers</th>\n",
       "    </tr>\n",
       "    <tr>\n",
       "      <th>Month</th>\n",
       "      <th></th>\n",
       "    </tr>\n",
       "  </thead>\n",
       "  <tbody>\n",
       "    <tr>\n",
       "      <th>1960-08-01</th>\n",
       "      <td>606</td>\n",
       "    </tr>\n",
       "    <tr>\n",
       "      <th>1960-09-01</th>\n",
       "      <td>508</td>\n",
       "    </tr>\n",
       "    <tr>\n",
       "      <th>1960-10-01</th>\n",
       "      <td>461</td>\n",
       "    </tr>\n",
       "    <tr>\n",
       "      <th>1960-11-01</th>\n",
       "      <td>390</td>\n",
       "    </tr>\n",
       "    <tr>\n",
       "      <th>1960-12-01</th>\n",
       "      <td>432</td>\n",
       "    </tr>\n",
       "  </tbody>\n",
       "</table>\n",
       "</div>"
      ],
      "text/plain": [
       "            Thousands of Passengers\n",
       "Month                              \n",
       "1960-08-01                      606\n",
       "1960-09-01                      508\n",
       "1960-10-01                      461\n",
       "1960-11-01                      390\n",
       "1960-12-01                      432"
      ]
     },
     "execution_count": 3,
     "metadata": {},
     "output_type": "execute_result"
    }
   ],
   "source": [
    "df.tail()"
   ]
  },
  {
   "cell_type": "code",
   "execution_count": 2,
   "id": "569b7005",
   "metadata": {},
   "outputs": [
    {
     "name": "stdout",
     "output_type": "stream",
     "text": [
      "<class 'pandas.core.frame.DataFrame'>\n",
      "DatetimeIndex: 144 entries, 1949-01-01 to 1960-12-01\n",
      "Freq: MS\n",
      "Data columns (total 1 columns):\n",
      "Thousands of Passengers    144 non-null int64\n",
      "dtypes: int64(1)\n",
      "memory usage: 2.2 KB\n"
     ]
    }
   ],
   "source": [
    "df.info()"
   ]
  },
  {
   "cell_type": "markdown",
   "id": "caf17b65",
   "metadata": {},
   "source": [
    "#### Train-Test Split"
   ]
  },
  {
   "cell_type": "code",
   "execution_count": 4,
   "id": "12caf631",
   "metadata": {},
   "outputs": [],
   "source": [
    "train_data = df.iloc[:109]\n",
    "test_data = df.iloc[108:]"
   ]
  },
  {
   "cell_type": "markdown",
   "id": "ffe5c2bb",
   "metadata": {},
   "source": [
    "#### Model Fitting"
   ]
  },
  {
   "cell_type": "code",
   "execution_count": 7,
   "id": "4a827fc5",
   "metadata": {},
   "outputs": [],
   "source": [
    "from statsmodels.tsa.holtwinters import ExponentialSmoothing"
   ]
  },
  {
   "cell_type": "code",
   "execution_count": 8,
   "id": "5b4c16d3",
   "metadata": {},
   "outputs": [],
   "source": [
    "# seasonal_periods indicates how often a season is occuring \n",
    "# In our dataset it is annual\n",
    "fitted_model = ExponentialSmoothing(train_data['Thousands of Passengers'],\n",
    "                                   trend='mul', seasonal='mul',\n",
    "                                   seasonal_periods=12).fit()"
   ]
  },
  {
   "cell_type": "markdown",
   "id": "17a468b5",
   "metadata": {},
   "source": [
    "#### Evaluating on Test set"
   ]
  },
  {
   "cell_type": "code",
   "execution_count": 9,
   "id": "0801953c",
   "metadata": {},
   "outputs": [],
   "source": [
    "import warnings\n",
    "warnings.filterwarnings(\"ignore\")"
   ]
  },
  {
   "cell_type": "code",
   "execution_count": 10,
   "id": "9fd80572",
   "metadata": {},
   "outputs": [],
   "source": [
    "# 36 is the forecast frequencey (the number of months we forecast)\n",
    "test_pred = fitted_model.forecast(36).rename('HW Forecast')"
   ]
  },
  {
   "cell_type": "code",
   "execution_count": 11,
   "id": "2a9223c6",
   "metadata": {},
   "outputs": [
    {
     "data": {
      "text/plain": [
       "1958-02-01    331.649486\n",
       "1958-03-01    388.989620\n",
       "1958-04-01    380.125229\n",
       "1958-05-01    388.290918\n",
       "1958-06-01    453.379217\n",
       "1958-07-01    502.248555\n",
       "1958-08-01    490.986945\n",
       "1958-09-01    424.051079\n",
       "1958-10-01    365.391637\n",
       "1958-11-01    318.392247\n",
       "1958-12-01    360.320760\n",
       "1959-01-01    369.905595\n",
       "1959-02-01    359.903246\n",
       "1959-03-01    422.128280\n",
       "1959-04-01    412.508717\n",
       "1959-05-01    421.370055\n",
       "1959-06-01    492.003332\n",
       "1959-07-01    545.035928\n",
       "1959-08-01    532.814924\n",
       "1959-09-01    460.176682\n",
       "1959-10-01    396.519947\n",
       "1959-11-01    345.516602\n",
       "1959-12-01    391.017074\n",
       "1960-01-01    401.418456\n",
       "1960-02-01    390.563991\n",
       "1960-03-01    458.090077\n",
       "1960-04-01    447.651008\n",
       "1960-05-01    457.267257\n",
       "1960-06-01    533.917899\n",
       "1960-07-01    591.468428\n",
       "1960-08-01    578.206296\n",
       "1960-09-01    499.379885\n",
       "1960-10-01    430.300128\n",
       "1960-11-01    374.951725\n",
       "1960-12-01    424.328456\n",
       "1961-01-01    435.615950\n",
       "Freq: MS, Name: HW Forecast, dtype: float64"
      ]
     },
     "execution_count": 11,
     "metadata": {},
     "output_type": "execute_result"
    }
   ],
   "source": [
    "test_pred"
   ]
  },
  {
   "cell_type": "code",
   "execution_count": 12,
   "id": "e3b5ff54",
   "metadata": {},
   "outputs": [
    {
     "data": {
      "text/plain": [
       "<matplotlib.axes._subplots.AxesSubplot at 0x28ff8d28588>"
      ]
     },
     "execution_count": 12,
     "metadata": {},
     "output_type": "execute_result"
    },
    {
     "data": {
      "image/png": "[encoded data removed]",
      "text/plain": [
       "<Figure size 864x576 with 1 Axes>"
      ]
     },
     "metadata": {
      "needs_background": "light"
     },
     "output_type": "display_data"
    }
   ],
   "source": [
    "train_data['Thousands of Passengers'].plot(legend=True, label='Train', figsize=(12, 8))\n",
    "test_data['Thousands of Passengers'].plot(legend=True, label='Test')\n",
    "test_pred.plot(legend=True, label='Prediction')"
   ]
  },
  {
   "cell_type": "markdown",
   "id": "40cac1e3",
   "metadata": {},
   "source": [
    "#### Evaluation Metrics"
   ]
  },
  {
   "cell_type": "code",
   "execution_count": 13,
   "id": "77e73dfa",
   "metadata": {},
   "outputs": [],
   "source": [
    "from sklearn.metrics import mean_squared_error, mean_absolute_error"
   ]
  },
  {
   "cell_type": "code",
   "execution_count": 14,
   "id": "19a2b73b",
   "metadata": {},
   "outputs": [
    {
     "data": {
      "text/plain": [
       "46.30290453876919"
      ]
     },
     "execution_count": 14,
     "metadata": {},
     "output_type": "execute_result"
    }
   ],
   "source": [
    "mean_absolute_error(test_data, test_pred)"
   ]
  },
  {
   "cell_type": "code",
   "execution_count": 15,
   "id": "d04e3ac9",
   "metadata": {},
   "outputs": [
    {
     "data": {
      "text/plain": [
       "3075.328464707026"
      ]
     },
     "execution_count": 15,
     "metadata": {},
     "output_type": "execute_result"
    }
   ],
   "source": [
    "mean_squared_error(test_data, test_pred)"
   ]
  },
  {
   "cell_type": "code",
   "execution_count": 16,
   "id": "1d61e19a",
   "metadata": {},
   "outputs": [
    {
     "data": {
      "text/plain": [
       "55.45564411948549"
      ]
     },
     "execution_count": 16,
     "metadata": {},
     "output_type": "execute_result"
    }
   ],
   "source": [
    "np.sqrt(mean_squared_error(test_data, test_pred))"
   ]
  },
  {
   "cell_type": "code",
   "execution_count": 17,
   "id": "0ccaf5ce",
   "metadata": {},
   "outputs": [
    {
     "data": {
      "text/html": [
       "<div>\n",
       "<style scoped>\n",
       "    .dataframe tbody tr th:only-of-type {\n",
       "        vertical-align: middle;\n",
       "    }\n",
       "\n",
       "    .dataframe tbody tr th {\n",
       "        vertical-align: top;\n",
       "    }\n",
       "\n",
       "    .dataframe thead th {\n",
       "        text-align: right;\n",
       "    }\n",
       "</style>\n",
       "<table border=\"1\" class=\"dataframe\">\n",
       "  <thead>\n",
       "    <tr style=\"text-align: right;\">\n",
       "      <th></th>\n",
       "      <th>Thousands of Passengers</th>\n",
       "    </tr>\n",
       "  </thead>\n",
       "  <tbody>\n",
       "    <tr>\n",
       "      <th>count</th>\n",
       "      <td>36.000000</td>\n",
       "    </tr>\n",
       "    <tr>\n",
       "      <th>mean</th>\n",
       "      <td>428.500000</td>\n",
       "    </tr>\n",
       "    <tr>\n",
       "      <th>std</th>\n",
       "      <td>79.329152</td>\n",
       "    </tr>\n",
       "    <tr>\n",
       "      <th>min</th>\n",
       "      <td>310.000000</td>\n",
       "    </tr>\n",
       "    <tr>\n",
       "      <th>25%</th>\n",
       "      <td>362.000000</td>\n",
       "    </tr>\n",
       "    <tr>\n",
       "      <th>50%</th>\n",
       "      <td>412.000000</td>\n",
       "    </tr>\n",
       "    <tr>\n",
       "      <th>75%</th>\n",
       "      <td>472.000000</td>\n",
       "    </tr>\n",
       "    <tr>\n",
       "      <th>max</th>\n",
       "      <td>622.000000</td>\n",
       "    </tr>\n",
       "  </tbody>\n",
       "</table>\n",
       "</div>"
      ],
      "text/plain": [
       "       Thousands of Passengers\n",
       "count                36.000000\n",
       "mean                428.500000\n",
       "std                  79.329152\n",
       "min                 310.000000\n",
       "25%                 362.000000\n",
       "50%                 412.000000\n",
       "75%                 472.000000\n",
       "max                 622.000000"
      ]
     },
     "execution_count": 17,
     "metadata": {},
     "output_type": "execute_result"
    }
   ],
   "source": [
    "test_data.describe()"
   ]
  },
  {
   "cell_type": "code",
   "execution_count": 18,
   "id": "571315d6",
   "metadata": {},
   "outputs": [],
   "source": [
    "### Our rmse is within bounds of the std on the test set"
   ]
  },
  {
   "cell_type": "markdown",
   "id": "6c173f68",
   "metadata": {},
   "source": [
    "#### Forecast into Future"
   ]
  },
  {
   "cell_type": "code",
   "execution_count": 19,
   "id": "741902ba",
   "metadata": {},
   "outputs": [],
   "source": [
    "# After we are satisfied with the performance on the test set\n",
    "# we fit the model again, this time on the whole dataset and \n",
    "# forecast the future\n",
    "\n",
    "final_model = ExponentialSmoothing(df['Thousands of Passengers'],\n",
    "                                  trend='mul', seasonal='mul',\n",
    "                                  seasonal_periods=12).fit()"
   ]
  },
  {
   "cell_type": "code",
   "execution_count": 20,
   "id": "6bc5ad65",
   "metadata": {},
   "outputs": [],
   "source": [
    "forecast_predictions = final_model.forecast(36)"
   ]
  },
  {
   "cell_type": "code",
   "execution_count": 21,
   "id": "69d28519",
   "metadata": {},
   "outputs": [
    {
     "data": {
      "image/png": "[encoded data removed]",
      "text/plain": [
       "<Figure size 864x576 with 1 Axes>"
      ]
     },
     "metadata": {
      "needs_background": "light"
     },
     "output_type": "display_data"
    }
   ],
   "source": [
    "df['Thousands of Passengers'].plot(figsize=(12, 8))\n",
    "forecast_predictions.plot();"
   ]
  },
  {
   "cell_type": "code",
   "execution_count": null,
   "id": "c6f15feb",
   "metadata": {},
   "outputs": [],
   "source": []
  }
 ],
 "metadata": {
  "kernelspec": {
   "display_name": "Python 3 (ipykernel)",
   "language": "python",
   "name": "python3"
  },
  "language_info": {
   "codemirror_mode": {
    "name": "ipython",
    "version": 3
   },
   "file_extension": ".py",
   "mimetype": "text/x-python",
   "name": "python",
   "nbconvert_exporter": "python",
   "pygments_lexer": "ipython3",
   "version": "3.7.2"
  }
 },
 "nbformat": 4,
 "nbformat_minor": 5
}
