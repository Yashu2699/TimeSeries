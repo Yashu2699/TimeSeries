{
 "cells": [
  {
   "cell_type": "code",
   "execution_count": 8,
   "id": "90fa78cc",
   "metadata": {},
   "outputs": [],
   "source": [
    "import pandas as pd\n",
    "import numpy as np\n",
    "%matplotlib inline\n",
    "\n",
    "import warnings\n",
    "warnings.filterwarnings(\"ignore\")\n",
    "\n",
    "from statsmodels.tsa.stattools import ccovf, ccf, periodogram\n",
    "from statsmodels.tsa.stattools import adfuller, grangercausalitytests\n",
    "from statsmodels.tools.eval_measures import mse, rmse, meanabs"
   ]
  },
  {
   "cell_type": "code",
   "execution_count": 4,
   "id": "c275c435",
   "metadata": {},
   "outputs": [],
   "source": [
    "df1 = pd.read_csv('../Data/airline_passengers.csv', index_col='Month', parse_dates=True)\n",
    "df1.index.freq = 'MS'\n",
    "\n",
    "df2 = pd.read_csv('../Data/DailyTotalFemaleBirths.csv', index_col='Date', parse_dates=True)\n",
    "df2.index.freq = 'D'"
   ]
  },
  {
   "cell_type": "markdown",
   "id": "6a217908",
   "metadata": {},
   "source": [
    "#### Test for stationarity - Augmented Dickey-Fuller Test\n",
    "- If the p-statistic < 0.05, the dataset is stationary"
   ]
  },
  {
   "cell_type": "code",
   "execution_count": 5,
   "id": "867c6f5a",
   "metadata": {},
   "outputs": [
    {
     "name": "stdout",
     "output_type": "stream",
     "text": [
      "Augmented Dickey-Fuller test on Airline Data\n"
     ]
    },
    {
     "data": {
      "text/plain": [
       "(0.8153688792060543,\n",
       " 0.9918802434376411,\n",
       " 13,\n",
       " 130,\n",
       " {'1%': -3.4816817173418295,\n",
       "  '5%': -2.8840418343195267,\n",
       "  '10%': -2.578770059171598},\n",
       " 996.692930839019)"
      ]
     },
     "execution_count": 5,
     "metadata": {},
     "output_type": "execute_result"
    }
   ],
   "source": [
    "print('Augmented Dickey-Fuller test on Airline Data')\n",
    "dftest = adfuller(df1['Thousands of Passengers'], autolag='AIC')\n",
    "dftest"
   ]
  },
  {
   "cell_type": "code",
   "execution_count": 6,
   "id": "d2077c51",
   "metadata": {},
   "outputs": [
    {
     "name": "stdout",
     "output_type": "stream",
     "text": [
      "Augmented Dickey-Fuller test on Daily Female Births\n"
     ]
    },
    {
     "data": {
      "text/plain": [
       "(-4.808291253559765,\n",
       " 5.2434129901498554e-05,\n",
       " 6,\n",
       " 358,\n",
       " {'1%': -3.448748905151901,\n",
       "  '5%': -2.8696473721448728,\n",
       "  '10%': -2.5710891239349585},\n",
       " 2343.8290926464197)"
      ]
     },
     "execution_count": 6,
     "metadata": {},
     "output_type": "execute_result"
    }
   ],
   "source": [
    "print('Augmented Dickey-Fuller test on Daily Female Births')\n",
    "dftest = adfuller(df2['Births'], autolag='AIC')\n",
    "dftest"
   ]
  },
  {
   "cell_type": "markdown",
   "id": "d317cc68",
   "metadata": {},
   "source": [
    "#### Causality between two series\n",
    "- If p-values are extremely low, there is causality"
   ]
  },
  {
   "cell_type": "code",
   "execution_count": 7,
   "id": "447a2ad7",
   "metadata": {},
   "outputs": [],
   "source": [
    "df3 = pd.read_csv('../Data/samples.csv', index_col=0, parse_dates=True)\n",
    "df3.index.freq = 'MS'"
   ]
  },
  {
   "cell_type": "code",
   "execution_count": 10,
   "id": "e8be0033",
   "metadata": {},
   "outputs": [
    {
     "name": "stdout",
     "output_type": "stream",
     "text": [
      "\n",
      "Granger Causality\n",
      "number of lags (no zero) 1\n",
      "ssr based F test:         F=1.7051  , p=0.1942  , df_denom=116, df_num=1\n",
      "ssr based chi2 test:   chi2=1.7492  , p=0.1860  , df=1\n",
      "likelihood ratio test: chi2=1.7365  , p=0.1876  , df=1\n",
      "parameter F test:         F=1.7051  , p=0.1942  , df_denom=116, df_num=1\n",
      "\n",
      "Granger Causality\n",
      "number of lags (no zero) 2\n",
      "ssr based F test:         F=286.0339, p=0.0000  , df_denom=113, df_num=2\n",
      "ssr based chi2 test:   chi2=597.3806, p=0.0000  , df=2\n",
      "likelihood ratio test: chi2=212.6514, p=0.0000  , df=2\n",
      "parameter F test:         F=286.0339, p=0.0000  , df_denom=113, df_num=2\n",
      "\n",
      "Granger Causality\n",
      "number of lags (no zero) 3\n",
      "ssr based F test:         F=188.7446, p=0.0000  , df_denom=110, df_num=3\n",
      "ssr based chi2 test:   chi2=602.2669, p=0.0000  , df=3\n",
      "likelihood ratio test: chi2=212.4789, p=0.0000  , df=3\n",
      "parameter F test:         F=188.7446, p=0.0000  , df_denom=110, df_num=3\n"
     ]
    }
   ],
   "source": [
    "grangercausalitytests(df3[['a', 'd']], maxlag=3);"
   ]
  },
  {
   "cell_type": "code",
   "execution_count": 12,
   "id": "1529a934",
   "metadata": {},
   "outputs": [
    {
     "name": "stdout",
     "output_type": "stream",
     "text": [
      "\n",
      "Granger Causality\n",
      "number of lags (no zero) 1\n",
      "ssr based F test:         F=1.5225  , p=0.2197  , df_denom=116, df_num=1\n",
      "ssr based chi2 test:   chi2=1.5619  , p=0.2114  , df=1\n",
      "likelihood ratio test: chi2=1.5517  , p=0.2129  , df=1\n",
      "parameter F test:         F=1.5225  , p=0.2197  , df_denom=116, df_num=1\n",
      "\n",
      "Granger Causality\n",
      "number of lags (no zero) 2\n",
      "ssr based F test:         F=0.4350  , p=0.6483  , df_denom=113, df_num=2\n",
      "ssr based chi2 test:   chi2=0.9086  , p=0.6349  , df=2\n",
      "likelihood ratio test: chi2=0.9051  , p=0.6360  , df=2\n",
      "parameter F test:         F=0.4350  , p=0.6483  , df_denom=113, df_num=2\n",
      "\n",
      "Granger Causality\n",
      "number of lags (no zero) 3\n",
      "ssr based F test:         F=0.5333  , p=0.6604  , df_denom=110, df_num=3\n",
      "ssr based chi2 test:   chi2=1.7018  , p=0.6365  , df=3\n",
      "likelihood ratio test: chi2=1.6895  , p=0.6393  , df=3\n",
      "parameter F test:         F=0.5333  , p=0.6604  , df_denom=110, df_num=3\n"
     ]
    }
   ],
   "source": [
    "grangercausalitytests(df3[['b', 'd']], maxlag=3);"
   ]
  },
  {
   "cell_type": "code",
   "execution_count": null,
   "id": "d3a4d0e5",
   "metadata": {},
   "outputs": [],
   "source": []
  }
 ],
 "metadata": {
  "kernelspec": {
   "display_name": "Python 3 (ipykernel)",
   "language": "python",
   "name": "python3"
  },
  "language_info": {
   "codemirror_mode": {
    "name": "ipython",
    "version": 3
   },
   "file_extension": ".py",
   "mimetype": "text/x-python",
   "name": "python",
   "nbconvert_exporter": "python",
   "pygments_lexer": "ipython3",
   "version": "3.7.2"
  }
 },
 "nbformat": 4,
 "nbformat_minor": 5
}
